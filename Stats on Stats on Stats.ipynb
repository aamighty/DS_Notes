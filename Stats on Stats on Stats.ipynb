{
 "cells": [
  {
   "cell_type": "markdown",
   "metadata": {},
   "source": [
    "# DSI Notes"
   ]
  },
  {
   "cell_type": "markdown",
   "metadata": {},
   "source": [
    "## Measures of Dispersion\n",
    "---\n",
    "<span style=\"color:green\">Range</span> = difference between the maximum and minimum values  \n",
    "<span style=\"color:green\">Variance</span> = average squared distance of data from the mean\n",
    "## Covariance & Correlation\n",
    "---\n",
    "<span style=\"color:green\">Covariance</span> - how two variables vary with respect to one another  \n",
    "<span style=\"color:green\">Correlation</span> - normalizes and removes units from covariance\n",
    "- Correlation coefficients are **always** between -1 and 1\n",
    "- Values close to -1 or 1 ==> strong linear relationship\n",
    "- Values close to 0 ==> weak or non-linear relationship\n",
    "- Values < 0 ==> negative relationship\n",
    "- Values > 0 ==> positive relationship    "
   ]
  },
  {
   "cell_type": "markdown",
   "metadata": {},
   "source": [
    "## Central Limit Theorm & Confidence Intervals  \n",
    "---\n",
    "<span style=\"color:green\">Standard Error</span> - Uncertainty of sample mean relative to true population mean  \n",
    "$$SE = \\frac{s}{\\sqrt{n}}$$\n",
    "**CLT Properties**\n",
    "- If x is a normal random variable ==> the mean of a sample of x is normally distributed\n",
    "- If x is not a normal random variable ==> the mean of a sample of x is approximately normally distributed as long as sample size >= 30  \n",
    "\n",
    "**Confidence Interval**  \n",
    "$$ CI = \\bar{x} \\pm t^* \\frac{s}{\\sqrt{n}} $$\n",
    "This is a an interval (or range) of values that we believe contains the \"true\" mean $\\mu$.  If we resampled the data many, many times, then this confidence interval would contain the true mean 95% of the time.\n",
    "- Range of possible values for the true mean based on a sample mean\n",
    "- Uncertainty related to a sample\n",
    "\n",
    "<span style=\"color:green\"> Z-score </span> is chosen to establish level of confidence  \n",
    "    - 90% confidence => z = 1.645\n",
    "    - 95% confidence => z = 1.96\n",
    "    - 99% confidence => z = 2.575   \n",
    "    "
   ]
  },
  {
   "cell_type": "markdown",
   "metadata": {
    "collapsed": true
   },
   "source": [
    "## Distributions\n",
    "---\n",
    "**Normal (Gaussian)** \n",
    "- Averages of samples of observations of random variables independently drawn from independent distributions become normally distributed when the number of observations is sufficiently large\n",
    "- Things that are measured in nature\n",
    "\n",
    "**Poisson**  \n",
    "- the probability of a given number of events occurring in a fixed interval of time or space if these events occur with a known constant rate and independently of the time since the last event\n",
    "- If you look for a set duration how many events do you expect to see\n",
    "\n",
    "**Exponential**  \n",
    "- The probability distribution that describes the time between events in a Poisson point process, i.e. a process in which events occur continuously and independently at a constant average rate.\n",
    "- Given some avg rate of success how long do you have to wait before the next success\n",
    "\n",
    "**Binomial**  \n",
    "- For the number of \"positive occurrences\" (e.g. successes, yes votes, etc.) given a fixed total number of independent occurrences\n",
    "- Repetitions of bernouli trials\n",
    "\n",
    "**Uniform/Flat**\n",
    "- Values are equally likely to be observed\n",
    "- Every outcome is equally as probable\n",
    "\n",
    "**Bernouli**  \n",
    "- The probability distribution of any single experiment that asks a yes–no question; the question results in a boolean-valued outcome\n",
    "- Single binary event where outcome can be determined by 1 outcome\n",
    "\n"
   ]
  },
  {
   "cell_type": "markdown",
   "metadata": {},
   "source": [
    "## Frequentist Hypothesis Testing\n",
    "---\n",
    "**<span style=\"color:green\">Null Hypothesis</span>** - has no effect  \n",
    "$H_0$: The mean difference between treatment and control groups is zero\n",
    "$$ H_0: P_A = P_B$$\n",
    "**<span style=\"color:green\">Alternative Hypothesis</span>** - has an effect  \n",
    "$H_1$: The mean difference between treatment and control, is different than zero\n",
    "$$H_1: P_A \\neq P_B$$\n",
    "**<span style=\"color:green\">t-test</span>** - search for significance in a measure of randomness  \n",
    "- The numerator: the difference between the group means. Recall that our assumed mean difference is 0 (our null hypothesis)\n",
    "- The denominator: the square root of the pooled sample variance divided by the sample size. This is the standard error of the mean\n",
    "\n",
    "**<span style=\"color:green\">t-statistics</span>** - measure of the degree by which our groups differ   \n",
    "We have $\\bar{x} \\approx \\mu$.  Let's calculate a new statistic that measures how far or sample mean, $\\bar{x}$ is from the true mean, $\\mu$. Normalized by our estimate for the standard deviation of the population:\n",
    "$$t = \\frac{\\bar{x} - \\mu}{s/\\sqrt{n}}$$\n",
    "**<span style=\"color:green\">p-value</span>** - metric that indicates the probability that out measured difference was due to random change in sampling of subjects\n",
    "- The probability that, given the null hypothesis (H0) is true, we could have ended up with a statistic at least as extreme as the one measured from our random sample of data from the true population\n",
    "\n",
    "In practice we use a t-distribution rather than normal distribution  \n",
    "- Degrees of Freedom\n",
    "    - One sample: dof = $n-1$\n",
    "    - Two samples: dof = $ n_1 + n_2 -2$  \n",
    "- More conservative than normal distribution\n",
    "\n",
    "### Signal and Noise\n",
    "Another way to think about the t-statistic is in terms of the <span style=\"color:green\">signal to noise ratio</span> in our data.\n",
    "\n",
    "<span style=\"color:green\"> Signal </span> - measured difference. This is our measured mean difference between groups minus the hypothesized mean $H_0$.\n",
    "\n",
    "<span style=\"color:green\"> Noise </span> - variation in our data, how much our measurements vary across the groups. The t-distribution also imposes an additional penalty for smaller sample sizes by \"fattening the tails\" of the distribution when the number of observations is small."
   ]
  },
  {
   "cell_type": "markdown",
   "metadata": {},
   "source": [
    "# Bayseian Statistics\n",
    "<span style=\"color:green\"> Probability </span> - How likely is an outcome\n",
    "- 1 - Will dinitely occur\n",
    "- 0 - Will not occur\n",
    "- $1-p$ - Chance of not p happening\n",
    "\n",
    "<span style=\"color:green\"> Non-negativity </span> \n",
    "$$P(A) >= 0$$\n",
    "<span style='color:green'>Unit Measure</span> - Over all possible events for a given case, total probability is 1\n",
    "<span style='color:green'>Additivity</span> - Probability of any event occuring = sum of those probabilities\n",
    "\n",
    "## Probabilities of Two Independent Events\n",
    "<span style=\"color:green\"> Independence </span> - two events do not influence each other  \n",
    "For independent events _A_ and _B_:  \n",
    "How likely they happen at the same time\n",
    "$$p(A \\cap B) = p(A) \\cdot p(B)$$\n",
    "How likely either event happens\n",
    "$$p(A \\cup B) = p(A) + p(B) - p(A \\cap B)$$\n",
    "## Probabilities of Two Dependent Events\n",
    "If $p(A|B)=0$, events are mutually exclusive  \n",
    "If $p(A|B) = p(A)$, events are independent. Chance of $A$ does not change with $B$\n",
    "$$p(B|A) = \\frac{p(B \\cap A)}{p(A)}$$\n",
    "Our equation for joint probability is actually:\n",
    "$$p(A \\cap B) = p(A) \\cdot P(B|A)$$\n",
    "\n",
    "### Bayes Theorem\n",
    "#### $$p(A|B) = \\frac{p(A) \\cdot p(B|A)}{p(B}$$\n",
    "\n",
    "## Combinatorics\n",
    "|  | Combination | Permutation |\n",
    "| :--- | :---:| :---: |\n",
    "| **Replacement** | $$ \\frac{(n + k -1)!}{k! (n-1)!}$$ | $$n^k$$ |\n",
    "| **Without Replacement** | $$\\frac{n!}{(n-k)! \\cdot k!}$$ | $$\\frac{n!}{(n - k)!}$$ |\n",
    "<span style=\"color:green\">Permutations </span> - every distinct ordering of results is a different instance of occurance **order matters**  \n",
    "<span style='color:green'>Combinations</span> - order doesn't matter\n",
    "\n",
    "## Probability Distributions\n",
    "**Probability**: asks how likely some event (or set of events) is to occur  \n",
    "**Combinatorics**: enumerates how many different ways a set of things can be arranged   \n",
    "A <span style=\"color:green\">probability distribution </span> is the set of different cases or groups of events with how likely each situation is  \n",
    "<span style=\"color:green\">Binomial Distribution </span> - calculate the probability for:\n",
    "- A given number of trials\n",
    "- A given number of successes\n",
    "- The **probability** of success\n",
    "\n",
    "and, by iterating through all possible number of successes in that trial, we can see the full set of possibilities!"
   ]
  },
  {
   "cell_type": "code",
   "execution_count": null,
   "metadata": {},
   "outputs": [],
   "source": []
  }
 ],
 "metadata": {
  "kernelspec": {
   "display_name": "Python 3",
   "language": "python",
   "name": "python3"
  },
  "language_info": {
   "codemirror_mode": {
    "name": "ipython",
    "version": 3
   },
   "file_extension": ".py",
   "mimetype": "text/x-python",
   "name": "python",
   "nbconvert_exporter": "python",
   "pygments_lexer": "ipython3",
   "version": "3.6.2"
  }
 },
 "nbformat": 4,
 "nbformat_minor": 2
}
